{
 "cells": [
  {
   "cell_type": "code",
   "execution_count": 1,
   "id": "fb7e78b0",
   "metadata": {},
   "outputs": [],
   "source": [
    "import pandas as pd\n",
    "from transformers import AutoTokenizer, TFAutoModelForQuestionAnswering, pipeline, TFAutoModelForSequenceClassification\n",
    "import os\n",
    "import re\n",
    "import time\n",
    "import logging"
   ]
  },
  {
   "cell_type": "code",
   "execution_count": 2,
   "id": "c67b7b65",
   "metadata": {},
   "outputs": [],
   "source": [
    "BASE_DIR = '/home/u132668/'"
   ]
  },
  {
   "cell_type": "code",
   "execution_count": 3,
   "id": "ba70d88e",
   "metadata": {},
   "outputs": [],
   "source": [
    "for name in logging.root.manager.loggerDict:\n",
    "        if re.match(\"transformers\", name):\n",
    "            logging.getLogger(name).setLevel(logging.ERROR)"
   ]
  },
  {
   "cell_type": "code",
   "execution_count": 4,
   "id": "2b15af2c",
   "metadata": {},
   "outputs": [],
   "source": [
    "test = pd.read_csv(os.path.join(BASE_DIR, 'data/test.csv'))"
   ]
  },
  {
   "cell_type": "code",
   "execution_count": 16,
   "id": "5a747818",
   "metadata": {},
   "outputs": [],
   "source": [
    "verbs = set(['am','is','are','was','were','has','have','had','shall','will','can','should','would','could','must','may','might','do','does','did'])"
   ]
  },
  {
   "cell_type": "code",
   "execution_count": 17,
   "id": "db9d275b",
   "metadata": {},
   "outputs": [],
   "source": [
    "def check_boolq(question):\n",
    "    first_word = question.split(' ')[0]\n",
    "    if first_word in verbs:\n",
    "        return 1\n",
    "    if question.rfind('true or false')>=0:\n",
    "        return 2\n",
    "    return 0"
   ]
  },
  {
   "cell_type": "code",
   "execution_count": 18,
   "id": "50a6049a",
   "metadata": {},
   "outputs": [],
   "source": [
    "test['Question'] = test['Question'].apply(lambda x: x.lower().strip())\n",
    "test['check_boolq'] = test['Question'].apply(check_boolq)"
   ]
  },
  {
   "cell_type": "code",
   "execution_count": 5,
   "id": "38298b06",
   "metadata": {},
   "outputs": [],
   "source": [
    "tokenizer_qa = AutoTokenizer.from_pretrained('WaRKiD/bert-large-uncased-whole-word-masking-finetuned-intel-oneapi-llm-dataset')\n",
    "model_qa = TFAutoModelForQuestionAnswering.from_pretrained('WaRKiD/bert-large-uncased-whole-word-masking-finetuned-intel-oneapi-llm-dataset')"
   ]
  },
  {
   "cell_type": "code",
   "execution_count": 6,
   "id": "406a1062",
   "metadata": {},
   "outputs": [],
   "source": [
    "model_qa_pipeline = pipeline(\"question-answering\", model=model_qa, tokenizer=tokenizer_qa, device=0)"
   ]
  },
  {
   "cell_type": "code",
   "execution_count": 7,
   "id": "ce779868",
   "metadata": {},
   "outputs": [],
   "source": [
    "start_start = time.time()\n",
    "result = model_qa_pipeline(question=test.iloc[:]['Question'].to_list(), context=test.iloc[:]['Story'].to_list())\n",
    "end_time = time.time()"
   ]
  },
  {
   "cell_type": "code",
   "execution_count": 8,
   "id": "e6504897",
   "metadata": {},
   "outputs": [
    {
     "name": "stdout",
     "output_type": "stream",
     "text": [
      "The time of execution of above program is : 7145624.570131302 ms\n"
     ]
    }
   ],
   "source": [
    "print(\"The time of execution of above program is :\", (end_time-start_start) * 10**3,\"ms\")"
   ]
  },
  {
   "cell_type": "code",
   "execution_count": 9,
   "id": "68c97a8c",
   "metadata": {},
   "outputs": [],
   "source": [
    "answers = []\n",
    "for i in range(len(result)):\n",
    "    answers.append(result[i]['answer'])"
   ]
  },
  {
   "cell_type": "code",
   "execution_count": 10,
   "id": "53cf22e7",
   "metadata": {},
   "outputs": [],
   "source": [
    "submission = pd.read_csv('D:\\\\ML\\\\oneAPI Hackathon - The LLM Challenge\\\\submission.csv')"
   ]
  },
  {
   "cell_type": "code",
   "execution_count": 13,
   "id": "1dbccea5",
   "metadata": {},
   "outputs": [],
   "source": [
    "submission['Answer'] = answers"
   ]
  },
  {
   "cell_type": "code",
   "execution_count": 34,
   "id": "b307dccf",
   "metadata": {},
   "outputs": [],
   "source": [
    "submission.to_csv('D:\\\\ML\\\\oneAPI Hackathon - The LLM Challenge\\\\out\\\\submission_v9.csv',index=False)"
   ]
  },
  {
   "cell_type": "code",
   "execution_count": 20,
   "id": "82849156",
   "metadata": {},
   "outputs": [],
   "source": [
    "tokenizer_tf = AutoTokenizer.from_pretrained('WaRKiD/distilbert-base-uncased-finetuned-intel-llm-tf-dataset')\n",
    "model_tf = TFAutoModelForSequenceClassification.from_pretrained('WaRKiD/distilbert-base-uncased-finetuned-intel-llm-tf-dataset')"
   ]
  },
  {
   "cell_type": "code",
   "execution_count": 23,
   "id": "b0476526",
   "metadata": {},
   "outputs": [],
   "source": [
    "model_tf_pipeline = pipeline(\"text-classification\", model=model_tf, tokenizer=tokenizer_tf, device=0)"
   ]
  },
  {
   "cell_type": "code",
   "execution_count": 25,
   "id": "2fa3f425",
   "metadata": {},
   "outputs": [],
   "source": [
    "result_tf = model_tf_pipeline((test[test['check_boolq'] == 2]['Question']+ ' ' +submission.iloc[test[test['check_boolq'] == 2].index]['Answer']).to_list())"
   ]
  },
  {
   "cell_type": "code",
   "execution_count": 26,
   "id": "717149c3",
   "metadata": {},
   "outputs": [],
   "source": [
    "for i,j in enumerate(test[test['check_boolq'] == 2].index):\n",
    "    submission.iloc[j]['Answer'] = result_tf[i]['label']"
   ]
  },
  {
   "cell_type": "code",
   "execution_count": 28,
   "id": "1db37dc7",
   "metadata": {},
   "outputs": [],
   "source": [
    "tokenizer_yn = AutoTokenizer.from_pretrained('WaRKiD/distilbert-base-uncased-finetuned-intel-llm-yn-dataset')\n",
    "model_yn = TFAutoModelForSequenceClassification.from_pretrained('WaRKiD/distilbert-base-uncased-finetuned-intel-llm-yn-dataset')"
   ]
  },
  {
   "cell_type": "code",
   "execution_count": 30,
   "id": "e04c3c7c",
   "metadata": {},
   "outputs": [],
   "source": [
    "model_yn_pipeline = pipeline(\"text-classification\", model=model_yn, tokenizer=tokenizer_yn, device=0)"
   ]
  },
  {
   "cell_type": "code",
   "execution_count": 31,
   "id": "0451f57c",
   "metadata": {},
   "outputs": [],
   "source": [
    "result_yn = model_yn_pipeline((test[test['check_boolq'] == 1]['Question']+ ' ' +submission.iloc[test[test['check_boolq'] == 1].index]['Answer']).to_list())"
   ]
  },
  {
   "cell_type": "code",
   "execution_count": 33,
   "id": "91fc3e3e",
   "metadata": {},
   "outputs": [],
   "source": [
    "for i,j in enumerate(test[test['check_boolq'] == 1].index):\n",
    "    submission.iloc[j]['Answer'] = result_yn[i]['label']"
   ]
  },
  {
   "cell_type": "code",
   "execution_count": null,
   "id": "42253957",
   "metadata": {},
   "outputs": [],
   "source": []
  }
 ],
 "metadata": {
  "kernelspec": {
   "display_name": "Python 3 (ipykernel)",
   "language": "python",
   "name": "python3"
  },
  "language_info": {
   "codemirror_mode": {
    "name": "ipython",
    "version": 3
   },
   "file_extension": ".py",
   "mimetype": "text/x-python",
   "name": "python",
   "nbconvert_exporter": "python",
   "pygments_lexer": "ipython3",
   "version": "3.10.4"
  }
 },
 "nbformat": 4,
 "nbformat_minor": 5
}
