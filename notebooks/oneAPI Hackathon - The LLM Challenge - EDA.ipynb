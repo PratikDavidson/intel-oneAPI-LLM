{
 "cells": [
  {
   "cell_type": "code",
   "execution_count": 1,
   "id": "fa97025f-5aff-4204-8307-ded521bb35b4",
   "metadata": {},
   "outputs": [],
   "source": [
    "from distributed import Client\n",
    "import os\n",
    "#import logging\n",
    "client = Client(silence_logs=50)"
   ]
  },
  {
   "cell_type": "code",
   "execution_count": 3,
   "id": "6809cb98-7cde-4acf-ba41-dbc2409ccbc4",
   "metadata": {},
   "outputs": [],
   "source": [
    "os.environ[\"MODIN_ENGINE\"] = \"dask\""
   ]
  },
  {
   "cell_type": "code",
   "execution_count": 4,
   "id": "87fcb7dc",
   "metadata": {},
   "outputs": [],
   "source": [
    "import modin.pandas as pd\n",
    "import re\n",
    "import string"
   ]
  },
  {
   "cell_type": "code",
   "execution_count": 5,
   "id": "f679cf18",
   "metadata": {},
   "outputs": [],
   "source": [
    "BASE_DIR = '/home/u132668/'"
   ]
  },
  {
   "cell_type": "code",
   "execution_count": 36,
   "id": "78836fc0",
   "metadata": {},
   "outputs": [],
   "source": [
    "train = pd.read_csv(os.path.join(BASE_DIR, 'data/train.csv'))"
   ]
  },
  {
   "cell_type": "code",
   "execution_count": 40,
   "id": "ab01d037",
   "metadata": {},
   "outputs": [
    {
     "data": {
      "text/html": [
       "<div>\n",
       "<style scoped>\n",
       "    .dataframe tbody tr th:only-of-type {\n",
       "        vertical-align: middle;\n",
       "    }\n",
       "\n",
       "    .dataframe tbody tr th {\n",
       "        vertical-align: top;\n",
       "    }\n",
       "\n",
       "    .dataframe thead th {\n",
       "        text-align: right;\n",
       "    }\n",
       "</style>\n",
       "<table border=\"1\" class=\"dataframe\">\n",
       "  <thead>\n",
       "    <tr style=\"text-align: right;\">\n",
       "      <th></th>\n",
       "      <th>Story</th>\n",
       "      <th>Question</th>\n",
       "      <th>span_start</th>\n",
       "      <th>span_end</th>\n",
       "      <th>span_text</th>\n",
       "      <th>Answer</th>\n",
       "    </tr>\n",
       "  </thead>\n",
       "  <tbody>\n",
       "    <tr>\n",
       "      <th>0</th>\n",
       "      <td>CHAPTER IV. \\n\\nNotwithstanding the earnest in...</td>\n",
       "      <td>What emotions did she show?</td>\n",
       "      <td>199.0</td>\n",
       "      <td>288.0</td>\n",
       "      <td>The countenance of this young lady exhibited a...</td>\n",
       "      <td>mirth and sadness</td>\n",
       "    </tr>\n",
       "    <tr>\n",
       "      <th>1</th>\n",
       "      <td>(CNN) -- Polk County, Florida, detectives arre...</td>\n",
       "      <td>What do police believe the motive to be?</td>\n",
       "      <td>428.0</td>\n",
       "      <td>465.0</td>\n",
       "      <td>We believe that his motive is robbery</td>\n",
       "      <td>robbery</td>\n",
       "    </tr>\n",
       "    <tr>\n",
       "      <th>2</th>\n",
       "      <td>Malawi (, or ; or [maláwi]), officially the Re...</td>\n",
       "      <td>Is it a large country?</td>\n",
       "      <td>653.0</td>\n",
       "      <td>702.0</td>\n",
       "      <td>Malawi is among the smallest countries in Africa.</td>\n",
       "      <td>No</td>\n",
       "    </tr>\n",
       "    <tr>\n",
       "      <th>3</th>\n",
       "      <td>CHAPTER XXXII. \\n\\nMR. GILMORE'S SUCCESS. \\n\\n...</td>\n",
       "      <td>What reminded him of Bullhampton?</td>\n",
       "      <td>1438.0</td>\n",
       "      <td>1448.0</td>\n",
       "      <td>Everything</td>\n",
       "      <td>Everything</td>\n",
       "    </tr>\n",
       "    <tr>\n",
       "      <th>4</th>\n",
       "      <td>Computer security, also known as cybersecurity...</td>\n",
       "      <td>Besides breaking or staling a computer what ot...</td>\n",
       "      <td>NaN</td>\n",
       "      <td>-1.0</td>\n",
       "      <td>unknown</td>\n",
       "      <td>unknown</td>\n",
       "    </tr>\n",
       "  </tbody>\n",
       "</table>\n",
       "</div>"
      ],
      "text/plain": [
       "                                               Story  \\\n",
       "0  CHAPTER IV. \\n\\nNotwithstanding the earnest in...   \n",
       "1  (CNN) -- Polk County, Florida, detectives arre...   \n",
       "2  Malawi (, or ; or [maláwi]), officially the Re...   \n",
       "3  CHAPTER XXXII. \\n\\nMR. GILMORE'S SUCCESS. \\n\\n...   \n",
       "4  Computer security, also known as cybersecurity...   \n",
       "\n",
       "                                            Question  span_start  span_end  \\\n",
       "0                        What emotions did she show?       199.0     288.0   \n",
       "1           What do police believe the motive to be?       428.0     465.0   \n",
       "2                             Is it a large country?       653.0     702.0   \n",
       "3                  What reminded him of Bullhampton?      1438.0    1448.0   \n",
       "4  Besides breaking or staling a computer what ot...         NaN      -1.0   \n",
       "\n",
       "                                           span_text             Answer  \n",
       "0  The countenance of this young lady exhibited a...  mirth and sadness  \n",
       "1              We believe that his motive is robbery            robbery  \n",
       "2  Malawi is among the smallest countries in Africa.                 No  \n",
       "3                                         Everything         Everything  \n",
       "4                                            unknown            unknown  "
      ]
     },
     "execution_count": 40,
     "metadata": {},
     "output_type": "execute_result"
    }
   ],
   "source": [
    "train.head()"
   ]
  },
  {
   "cell_type": "code",
   "execution_count": 41,
   "id": "e913bb3d",
   "metadata": {},
   "outputs": [
    {
     "name": "stdout",
     "output_type": "stream",
     "text": [
      "<class 'modin.pandas.dataframe.DataFrame'>\n",
      "RangeIndex: 66611 entries, 0 to 66610\n",
      "Data columns (total 6 columns):\n",
      " #   Column      Non-Null Count  Dtype  \n",
      "---  ------      --------------  -----  \n",
      " 0   Story       66611 non-null  object \n",
      " 1   Question    66611 non-null  object \n",
      " 2   span_start  58286 non-null  float64\n",
      " 3   span_end    58035 non-null  float64\n",
      " 4   span_text   58236 non-null  object \n",
      " 5   Answer      66611 non-null  object \n",
      "dtypes: float64(2), object(4)\n",
      "memory usage: 3.0+ MB\n"
     ]
    }
   ],
   "source": [
    "train.info()"
   ]
  },
  {
   "cell_type": "code",
   "execution_count": 42,
   "id": "b8385361",
   "metadata": {},
   "outputs": [],
   "source": [
    "train['NormAnswer'] = train['Answer'].apply(lambda x: x.lower().strip().strip(string.punctuation))"
   ]
  },
  {
   "cell_type": "code",
   "execution_count": 43,
   "id": "da4d62fa",
   "metadata": {},
   "outputs": [],
   "source": [
    "train_tf = train[(train['NormAnswer'] == 'true') | (train['NormAnswer'] == 'false')].copy()\n",
    "train_yn = train[(train['NormAnswer'] == 'yes') | (train['NormAnswer'] == 'no')].copy()"
   ]
  },
  {
   "cell_type": "code",
   "execution_count": 44,
   "id": "9c3cba8f",
   "metadata": {},
   "outputs": [
    {
     "name": "stdout",
     "output_type": "stream",
     "text": [
      "Number of true/false questions: 61\n",
      "Number of yes/no questions: 11210\n",
      "Number of unknown answers: 772\n"
     ]
    }
   ],
   "source": [
    "print('Number of true/false questions: ' + str(len(train_tf)))\n",
    "print('Number of yes/no questions: ' + str(len(train_yn)))\n",
    "print('Number of unknown answers: ' + str(len(train[train['NormAnswer'] == 'unknown'])))"
   ]
  },
  {
   "cell_type": "code",
   "execution_count": 12,
   "id": "d2ff82a3",
   "metadata": {},
   "outputs": [],
   "source": [
    "train.drop(train_tf.index, inplace=True)\n",
    "train.drop(train_yn.index, inplace=True)\n",
    "train.drop(train[train['NormAnswer'] == 'unknown'].index, inplace=True)"
   ]
  },
  {
   "cell_type": "code",
   "execution_count": 13,
   "id": "09e9dd3c",
   "metadata": {},
   "outputs": [],
   "source": [
    "def preprocess_text(text):\n",
    "    #text = re.sub(r'[^\\w\\s]', ' ', text)\n",
    "    text = re.sub('--', ' ', text)\n",
    "    text = re.sub('\\s{2,}', ' ', text)\n",
    "    text = text.strip()\n",
    "    text = text.lower()\n",
    "    return text"
   ]
  },
  {
   "cell_type": "code",
   "execution_count": 14,
   "id": "616ed474",
   "metadata": {},
   "outputs": [],
   "source": [
    "train['Story'] = train['Story'].apply(preprocess_text)"
   ]
  },
  {
   "cell_type": "code",
   "execution_count": 15,
   "id": "f012649e",
   "metadata": {},
   "outputs": [],
   "source": [
    "train['answer_start'] = train.apply(lambda row: row['Story'].rfind(row['NormAnswer']), axis=1)"
   ]
  },
  {
   "cell_type": "code",
   "execution_count": 16,
   "id": "59c25e80",
   "metadata": {},
   "outputs": [],
   "source": [
    "train_story_contained_ans = train[train['answer_start']>=0]"
   ]
  },
  {
   "cell_type": "code",
   "execution_count": 17,
   "id": "3a1266df",
   "metadata": {},
   "outputs": [
    {
     "name": "stdout",
     "output_type": "stream",
     "text": [
      "Number of examples with answer present in context: 44099\n"
     ]
    }
   ],
   "source": [
    "print('Number of examples with answer present in context: ' + str(len(train_story_contained_ans)))"
   ]
  },
  {
   "cell_type": "code",
   "execution_count": 46,
   "id": "1dc4c1cd",
   "metadata": {},
   "outputs": [
    {
     "name": "stdout",
     "output_type": "stream",
     "text": [
      "<class 'modin.pandas.dataframe.DataFrame'>\n",
      "Index: 61 entries, 631 to 64970\n",
      "Data columns (total 7 columns):\n",
      " #   Column      Non-Null Count  Dtype  \n",
      "---  ------      --------------  -----  \n",
      " 0   Story       61 non-null     object \n",
      " 1   Question    61 non-null     object \n",
      " 2   span_start  49 non-null     float64\n",
      " 3   span_end    54 non-null     float64\n",
      " 4   span_text   56 non-null     object \n",
      " 5   Answer      61 non-null     object \n",
      " 6   NormAnswer  61 non-null     object \n",
      "dtypes: float64(2), object(5)\n",
      "memory usage: 3.8+ KB\n"
     ]
    }
   ],
   "source": [
    "train_tf.info()"
   ]
  },
  {
   "cell_type": "code",
   "execution_count": 58,
   "id": "c833af19-84ac-4862-b7a1-c2c2fbfa3d9d",
   "metadata": {},
   "outputs": [
    {
     "data": {
      "text/html": [
       "<div>\n",
       "<style scoped>\n",
       "    .dataframe tbody tr th:only-of-type {\n",
       "        vertical-align: middle;\n",
       "    }\n",
       "\n",
       "    .dataframe tbody tr th {\n",
       "        vertical-align: top;\n",
       "    }\n",
       "\n",
       "    .dataframe thead th {\n",
       "        text-align: right;\n",
       "    }\n",
       "</style>\n",
       "<table border=\"1\" class=\"dataframe\">\n",
       "  <thead>\n",
       "    <tr style=\"text-align: right;\">\n",
       "      <th></th>\n",
       "      <th>Story</th>\n",
       "      <th>Question</th>\n",
       "      <th>span_start</th>\n",
       "      <th>span_end</th>\n",
       "      <th>span_text</th>\n",
       "      <th>Answer</th>\n",
       "      <th>NormAnswer</th>\n",
       "    </tr>\n",
       "  </thead>\n",
       "  <tbody>\n",
       "    <tr>\n",
       "      <th>12429</th>\n",
       "      <td>Linux is a name which broadly denotes a family...</td>\n",
       "      <td>True or False: Most Linux distributions are ju...</td>\n",
       "      <td>485.0</td>\n",
       "      <td>NaN</td>\n",
       "      <td>NaN</td>\n",
       "      <td>false</td>\n",
       "      <td>false</td>\n",
       "    </tr>\n",
       "    <tr>\n",
       "      <th>15127</th>\n",
       "      <td>(CNN)It was 3:30 in the morning when Robert Al...</td>\n",
       "      <td>True or False: The first sign mentioned said \"...</td>\n",
       "      <td>NaN</td>\n",
       "      <td>1169.0</td>\n",
       "      <td>NaN</td>\n",
       "      <td>true</td>\n",
       "      <td>true</td>\n",
       "    </tr>\n",
       "    <tr>\n",
       "      <th>36297</th>\n",
       "      <td>CHAPTER V \\n\\nFOLLOWING A TRAIL \\n\\nFrank had ...</td>\n",
       "      <td>True or False: Faulkner had been riding a horse.</td>\n",
       "      <td>417.0</td>\n",
       "      <td>NaN</td>\n",
       "      <td>NaN</td>\n",
       "      <td>True</td>\n",
       "      <td>true</td>\n",
       "    </tr>\n",
       "    <tr>\n",
       "      <th>36601</th>\n",
       "      <td>Chapter IX \\n\\nNobble \\n\\n\\n\\nDuring the two d...</td>\n",
       "      <td>True or False: Caldigate thought a closer rela...</td>\n",
       "      <td>1269.0</td>\n",
       "      <td>1372.0</td>\n",
       "      <td>NaN</td>\n",
       "      <td>True.</td>\n",
       "      <td>true</td>\n",
       "    </tr>\n",
       "    <tr>\n",
       "      <th>56771</th>\n",
       "      <td>CHAPTER V. \\n\\nMOHUN APPEARS FOR THE LAST TIME...</td>\n",
       "      <td>True of False: General Webb was cowardly.</td>\n",
       "      <td>1499.0</td>\n",
       "      <td>1514.0</td>\n",
       "      <td>NaN</td>\n",
       "      <td>false</td>\n",
       "      <td>false</td>\n",
       "    </tr>\n",
       "  </tbody>\n",
       "</table>\n",
       "</div>"
      ],
      "text/plain": [
       "                                                   Story  \\\n",
       "12429  Linux is a name which broadly denotes a family...   \n",
       "15127  (CNN)It was 3:30 in the morning when Robert Al...   \n",
       "36297  CHAPTER V \\n\\nFOLLOWING A TRAIL \\n\\nFrank had ...   \n",
       "36601  Chapter IX \\n\\nNobble \\n\\n\\n\\nDuring the two d...   \n",
       "56771  CHAPTER V. \\n\\nMOHUN APPEARS FOR THE LAST TIME...   \n",
       "\n",
       "                                                Question  span_start  \\\n",
       "12429  True or False: Most Linux distributions are ju...       485.0   \n",
       "15127  True or False: The first sign mentioned said \"...         NaN   \n",
       "36297   True or False: Faulkner had been riding a horse.       417.0   \n",
       "36601  True or False: Caldigate thought a closer rela...      1269.0   \n",
       "56771          True of False: General Webb was cowardly.      1499.0   \n",
       "\n",
       "       span_end span_text Answer NormAnswer  \n",
       "12429       NaN       NaN  false      false  \n",
       "15127    1169.0       NaN   true       true  \n",
       "36297       NaN       NaN   True       true  \n",
       "36601    1372.0       NaN  True.       true  \n",
       "56771    1514.0       NaN  false      false  "
      ]
     },
     "execution_count": 58,
     "metadata": {},
     "output_type": "execute_result"
    }
   ],
   "source": [
    "train_tf[train_tf['span_text'].isnull() == True]"
   ]
  },
  {
   "cell_type": "code",
   "execution_count": 47,
   "id": "b2bcc3f0",
   "metadata": {},
   "outputs": [
    {
     "name": "stdout",
     "output_type": "stream",
     "text": [
      "<class 'modin.pandas.dataframe.DataFrame'>\n",
      "Index: 11210 entries, 2 to 66603\n",
      "Data columns (total 7 columns):\n",
      " #   Column      Non-Null Count  Dtype  \n",
      "---  ------      --------------  -----  \n",
      " 0   Story       11210 non-null  object \n",
      " 1   Question    11210 non-null  object \n",
      " 2   span_start  9820 non-null   float64\n",
      " 3   span_end    9808 non-null   float64\n",
      " 4   span_text   9823 non-null   object \n",
      " 5   Answer      11210 non-null  object \n",
      " 6   NormAnswer  11210 non-null  object \n",
      "dtypes: float64(2), object(5)\n",
      "memory usage: 700.6+ KB\n"
     ]
    }
   ],
   "source": [
    "train_yn.info()"
   ]
  },
  {
   "cell_type": "code",
   "execution_count": 59,
   "id": "7ba7d1e6",
   "metadata": {},
   "outputs": [
    {
     "data": {
      "text/html": [
       "<div>\n",
       "<style scoped>\n",
       "    .dataframe tbody tr th:only-of-type {\n",
       "        vertical-align: middle;\n",
       "    }\n",
       "\n",
       "    .dataframe tbody tr th {\n",
       "        vertical-align: top;\n",
       "    }\n",
       "\n",
       "    .dataframe thead th {\n",
       "        text-align: right;\n",
       "    }\n",
       "</style>\n",
       "<table border=\"1\" class=\"dataframe\">\n",
       "  <thead>\n",
       "    <tr style=\"text-align: right;\">\n",
       "      <th></th>\n",
       "      <th>Story</th>\n",
       "      <th>Question</th>\n",
       "      <th>span_start</th>\n",
       "      <th>span_end</th>\n",
       "      <th>span_text</th>\n",
       "      <th>Answer</th>\n",
       "      <th>NormAnswer</th>\n",
       "    </tr>\n",
       "  </thead>\n",
       "  <tbody>\n",
       "    <tr>\n",
       "      <th>33</th>\n",
       "      <td>BOGOTA, Colombia (CNN) -- \"Easy money, fast an...</td>\n",
       "      <td>Substantially?</td>\n",
       "      <td>997.0</td>\n",
       "      <td>1018.0</td>\n",
       "      <td>NaN</td>\n",
       "      <td>yes</td>\n",
       "      <td>yes</td>\n",
       "    </tr>\n",
       "    <tr>\n",
       "      <th>36</th>\n",
       "      <td>Norfolk Island (i/ˈnɔːrfək ˈaɪlənd/; Norfuk: N...</td>\n",
       "      <td>Was it used the entire time in that manner?</td>\n",
       "      <td>778.0</td>\n",
       "      <td>870.0</td>\n",
       "      <td>NaN</td>\n",
       "      <td>No</td>\n",
       "      <td>no</td>\n",
       "    </tr>\n",
       "    <tr>\n",
       "      <th>47</th>\n",
       "      <td>CHAPTER IV \\n\\nTHE WAY INTO PRINT \\n\\nSam Cott...</td>\n",
       "      <td>were they the one who talked about the phone c...</td>\n",
       "      <td>872.0</td>\n",
       "      <td>1052.0</td>\n",
       "      <td>NaN</td>\n",
       "      <td>Yes</td>\n",
       "      <td>yes</td>\n",
       "    </tr>\n",
       "    <tr>\n",
       "      <th>70</th>\n",
       "      <td>New York—often called New York City or the Cit...</td>\n",
       "      <td>is food one of them?</td>\n",
       "      <td>409.0</td>\n",
       "      <td>507.0</td>\n",
       "      <td>NaN</td>\n",
       "      <td>No</td>\n",
       "      <td>no</td>\n",
       "    </tr>\n",
       "    <tr>\n",
       "      <th>92</th>\n",
       "      <td>CHAPTER V \\n\\nGETTING ACQUAINTED \\n\\n\"Dick, we...</td>\n",
       "      <td>Is he just a distant acquaintance?</td>\n",
       "      <td>1212.0</td>\n",
       "      <td>1242.0</td>\n",
       "      <td>NaN</td>\n",
       "      <td>no</td>\n",
       "      <td>no</td>\n",
       "    </tr>\n",
       "    <tr>\n",
       "      <th>...</th>\n",
       "      <td>...</td>\n",
       "      <td>...</td>\n",
       "      <td>...</td>\n",
       "      <td>...</td>\n",
       "      <td>...</td>\n",
       "      <td>...</td>\n",
       "      <td>...</td>\n",
       "    </tr>\n",
       "    <tr>\n",
       "      <th>66411</th>\n",
       "      <td>CHAPTER IX.—THE MAD ELEPHANT. \\n\\nFrom Middlet...</td>\n",
       "      <td>Did Leo fight Broxton?</td>\n",
       "      <td>1207.0</td>\n",
       "      <td>1287.0</td>\n",
       "      <td>NaN</td>\n",
       "      <td>yes</td>\n",
       "      <td>yes</td>\n",
       "    </tr>\n",
       "    <tr>\n",
       "      <th>66537</th>\n",
       "      <td>CHAPTER XI \\n\\nWITH DEJAH THORIS \\n\\nAs we rea...</td>\n",
       "      <td>Do males and females murder each other?</td>\n",
       "      <td>622.0</td>\n",
       "      <td>670.0</td>\n",
       "      <td>NaN</td>\n",
       "      <td>No</td>\n",
       "      <td>no</td>\n",
       "    </tr>\n",
       "    <tr>\n",
       "      <th>66573</th>\n",
       "      <td>One day a young boy went to visit a toy store....</td>\n",
       "      <td>Were they friends before they played cars in t...</td>\n",
       "      <td>385.0</td>\n",
       "      <td>466.0</td>\n",
       "      <td>NaN</td>\n",
       "      <td>no</td>\n",
       "      <td>no</td>\n",
       "    </tr>\n",
       "    <tr>\n",
       "      <th>66592</th>\n",
       "      <td>CHAPTER XLI. SPEECHIFYING. \\n\\nOn the Monday, ...</td>\n",
       "      <td>Did people believe the affairs of the parrish?</td>\n",
       "      <td>595.0</td>\n",
       "      <td>673.0</td>\n",
       "      <td>NaN</td>\n",
       "      <td>yes</td>\n",
       "      <td>yes</td>\n",
       "    </tr>\n",
       "    <tr>\n",
       "      <th>66593</th>\n",
       "      <td>CHAPTER XII \\n\\nALICE HEATH HAS A VISION \\n\\nT...</td>\n",
       "      <td>Is he experienced?</td>\n",
       "      <td>NaN</td>\n",
       "      <td>867.0</td>\n",
       "      <td>NaN</td>\n",
       "      <td>No</td>\n",
       "      <td>no</td>\n",
       "    </tr>\n",
       "  </tbody>\n",
       "</table>\n",
       "<p>1387 rows x 7 columns</p>\n",
       "</div>"
      ],
      "text/plain": [
       "                                                   Story  \\\n",
       "33     BOGOTA, Colombia (CNN) -- \"Easy money, fast an...   \n",
       "36     Norfolk Island (i/ˈnɔːrfək ˈaɪlənd/; Norfuk: N...   \n",
       "47     CHAPTER IV \\n\\nTHE WAY INTO PRINT \\n\\nSam Cott...   \n",
       "70     New York—often called New York City or the Cit...   \n",
       "92     CHAPTER V \\n\\nGETTING ACQUAINTED \\n\\n\"Dick, we...   \n",
       "...                                                  ...   \n",
       "66411  CHAPTER IX.—THE MAD ELEPHANT. \\n\\nFrom Middlet...   \n",
       "66537  CHAPTER XI \\n\\nWITH DEJAH THORIS \\n\\nAs we rea...   \n",
       "66573  One day a young boy went to visit a toy store....   \n",
       "66592  CHAPTER XLI. SPEECHIFYING. \\n\\nOn the Monday, ...   \n",
       "66593  CHAPTER XII \\n\\nALICE HEATH HAS A VISION \\n\\nT...   \n",
       "\n",
       "                                                Question  span_start  \\\n",
       "33                                        Substantially?       997.0   \n",
       "36           Was it used the entire time in that manner?       778.0   \n",
       "47     were they the one who talked about the phone c...       872.0   \n",
       "70                                  is food one of them?       409.0   \n",
       "92                    Is he just a distant acquaintance?      1212.0   \n",
       "...                                                  ...         ...   \n",
       "66411                             Did Leo fight Broxton?      1207.0   \n",
       "66537            Do males and females murder each other?       622.0   \n",
       "66573  Were they friends before they played cars in t...       385.0   \n",
       "66592     Did people believe the affairs of the parrish?       595.0   \n",
       "66593                                 Is he experienced?         NaN   \n",
       "\n",
       "       span_end span_text Answer NormAnswer  \n",
       "33       1018.0       NaN    yes        yes  \n",
       "36        870.0       NaN     No         no  \n",
       "47       1052.0       NaN    Yes        yes  \n",
       "70        507.0       NaN     No         no  \n",
       "92       1242.0       NaN     no         no  \n",
       "...         ...       ...    ...        ...  \n",
       "66411    1287.0       NaN    yes        yes  \n",
       "66537     670.0       NaN     No         no  \n",
       "66573     466.0       NaN     no         no  \n",
       "66592     673.0       NaN    yes        yes  \n",
       "66593     867.0       NaN     No         no  \n",
       "\n",
       "[1387 rows x 7 columns]"
      ]
     },
     "execution_count": 59,
     "metadata": {},
     "output_type": "execute_result"
    }
   ],
   "source": [
    "train_yn[train_yn['span_text'].isnull() == True]"
   ]
  },
  {
   "cell_type": "code",
   "execution_count": null,
   "id": "e1bd281f-3463-44da-8fff-e0a873f5903c",
   "metadata": {},
   "outputs": [],
   "source": []
  }
 ],
 "metadata": {
  "kernelspec": {
   "display_name": "Python 3 (ipykernel)",
   "language": "python",
   "name": "python3"
  },
  "language_info": {
   "codemirror_mode": {
    "name": "ipython",
    "version": 3
   },
   "file_extension": ".py",
   "mimetype": "text/x-python",
   "name": "python",
   "nbconvert_exporter": "python",
   "pygments_lexer": "ipython3",
   "version": "3.10.11"
  }
 },
 "nbformat": 4,
 "nbformat_minor": 5
}
